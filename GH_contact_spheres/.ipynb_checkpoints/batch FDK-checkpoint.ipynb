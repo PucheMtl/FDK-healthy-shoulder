{
 "cells": [
  {
   "cell_type": "code",
   "execution_count": 2,
   "id": "d1407211",
   "metadata": {},
   "outputs": [
    {
     "data": {
      "application/vnd.jupyter.widget-view+json": {
       "model_id": "cf73cf36a32e46d59fd92fd2ff7b7d8e",
       "version_major": 2,
       "version_minor": 0
      },
      "text/plain": [
       "  0%|          | 0/2 [00:00<?, ?it/s]"
      ]
     },
     "metadata": {},
     "output_type": "display_data"
    },
    {
     "name": "stdout",
     "output_type": "stream",
     "text": [
      "Failed (i=1) : 0.3 sec : fdk-healthy-shoulder-gh_contact_spheres-1_(k2njytbw).txt\n",
      "Completed: 1, Failed: 1\n"
     ]
    }
   ],
   "source": [
    "from anypytools import AnyPyProcess\n",
    "app = AnyPyProcess()\n",
    "from anypytools import AnyMacro, AnyPyProcess, macro_commands as mc\n",
    "\n",
    "macrolist = [\n",
    "    ['load \"GH_2spheres.main.any\"',\n",
    "     'operation Main.Study.Kinematics',\n",
    "     'run'],\n",
    "    ['load \"Knee.any\"',\n",
    "     'operation Main.Study.InverseDynamics',\n",
    "     'run'],\n",
    "]\n",
    "app.start_macro(macrolist);"
   ]
  },
  {
   "cell_type": "code",
   "execution_count": null,
   "id": "96cb704c",
   "metadata": {},
   "outputs": [],
   "source": []
  }
 ],
 "metadata": {
  "kernelspec": {
   "display_name": "Python 3 (ipykernel)",
   "language": "python",
   "name": "python3"
  },
  "language_info": {
   "codemirror_mode": {
    "name": "ipython",
    "version": 3
   },
   "file_extension": ".py",
   "mimetype": "text/x-python",
   "name": "python",
   "nbconvert_exporter": "python",
   "pygments_lexer": "ipython3",
   "version": "3.11.3"
  }
 },
 "nbformat": 4,
 "nbformat_minor": 5
}
