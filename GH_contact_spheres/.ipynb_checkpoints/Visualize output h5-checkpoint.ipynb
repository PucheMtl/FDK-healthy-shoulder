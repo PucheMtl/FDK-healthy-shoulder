{
 "cells": [
  {
   "cell_type": "code",
   "execution_count": null,
   "id": "e4eada8e",
   "metadata": {},
   "outputs": [],
   "source": [
    "import h5py\n",
    "import numpy as np"
   ]
  },
  {
   "cell_type": "code",
   "execution_count": null,
   "id": "2b72ee0b",
   "metadata": {},
   "outputs": [],
   "source": [
    "file_path = 'your_file.h5'\n",
    "\n",
    "# Open the HDF5 file\n",
    "h5_file = h5py.File(file_path, 'r')"
   ]
  },
  {
   "cell_type": "code",
   "execution_count": null,
   "id": "ad0fd80f",
   "metadata": {},
   "outputs": [],
   "source": [
    "# Access the dataset\n",
    "dataset = h5_file['dataset_name']"
   ]
  },
  {
   "cell_type": "code",
   "execution_count": null,
   "id": "3df3d5a6",
   "metadata": {},
   "outputs": [],
   "source": [
    "# Read data into a NumPy array\n",
    "data_array = np.array(dataset)\n",
    "\n",
    "# Close the HDF5 file\n",
    "h5_file.close()"
   ]
  }
 ],
 "metadata": {
  "kernelspec": {
   "display_name": "Python 3 (ipykernel)",
   "language": "python",
   "name": "python3"
  },
  "language_info": {
   "codemirror_mode": {
    "name": "ipython",
    "version": 3
   },
   "file_extension": ".py",
   "mimetype": "text/x-python",
   "name": "python",
   "nbconvert_exporter": "python",
   "pygments_lexer": "ipython3",
   "version": "3.11.3"
  }
 },
 "nbformat": 4,
 "nbformat_minor": 5
}
